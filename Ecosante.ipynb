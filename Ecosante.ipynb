{
 "cells": [
  {
   "cell_type": "code",
   "execution_count": null,
   "metadata": {},
   "outputs": [],
   "source": []
  },
  {
   "cell_type": "code",
   "execution_count": 2,
   "metadata": {},
   "outputs": [],
   "source": [
    "def takeYear(str):\n",
    "    return str[-4:]\n",
    "def takeCountry(str):\n",
    "    c=str.find(';')\n",
    "    \n",
    "    return str[:c]\n",
    "def convert(str):\n",
    "    return float(str)\n",
    "def normalize(number):\n",
    "    if type(number)==float or type(number)==int:\n",
    "        return number * 100/ max_val\n",
    "def root(number):\n",
    "    return number**(1/2)"
   ]
  },
  {
   "cell_type": "code",
   "execution_count": 3,
   "metadata": {},
   "outputs": [],
   "source": [
    "import matplotlib.pyplot as plt\n",
    "import pandas as pd\n",
    "import sklearn\n",
    "from sklearn.preprocessing import PolynomialFeatures\n",
    "from sklearn.linear_model import LinearRegression\n",
    "from sklearn.model_selection import train_test_split\n",
    "import numpy as np\n",
    "import scipy as sp\n",
    "from scipy.optimize import curve_fit\n",
    "import plotly.express as px"
   ]
  },
  {
   "cell_type": "code",
   "execution_count": 4,
   "metadata": {},
   "outputs": [],
   "source": [
    "HLY= pd.read_csv('data.csv').drop([0,1],axis=0)\n",
    "\n",
    "HLY.rename(columns={'Unnamed: 0':'country','Healthy life expectancy (HALE) at birth (years).1': \"HLY0\", 'Healthy life expectancy (HALE) at age 60 (years).1':'HLY60'}, inplace = True)\n",
    "HLY=HLY[['country','HLY0','HLY60']]##année = 2015\n",
    "HLY[\"HLY0\"]=HLY[\"HLY0\"].apply(convert)\n",
    "HLY[\"HLY60\"]=HLY[\"HLY60\"].apply(convert)"
   ]
  },
  {
   "cell_type": "code",
   "execution_count": 5,
   "metadata": {},
   "outputs": [],
   "source": [
    "BDR = pd.read_csv(\"BDR.csv\")\n",
    "\n",
    "BDR[\"Year\"]=BDR['Country; Year'].apply(takeYear)\n",
    "BDR[\"Country\"]=BDR['Country; Year'].apply(takeCountry)\n",
    "BDR.rename(columns={'Infant mortality rate (probability of dying between birth and age 1 per 1000 live births); Both sexes':'IMR1','Under-five mortality rate (probability of dying by age 5 per 1000 live births); Both sexes':'IMR5'},inplace=True)\n",
    "BDR=BDR[BDR['Year']=='2015'][['Country', 'Year',\"IMR1\",\"IMR5\"]]\n",
    "\n",
    "\n",
    "df=HLY.merge(BDR,left_on='country', right_on='Country').fillna(0)\n",
    "df.drop('country',axis=1,inplace=True)"
   ]
  },
  {
   "cell_type": "code",
   "execution_count": 6,
   "metadata": {},
   "outputs": [],
   "source": [
    "SCI=pd.read_csv(\"SCI.csv\")\n",
    "SCI.rename(columns={'UHC index of service coverage (SCI).1':\"SCI\",'Unnamed: 0':'Country'},inplace=True)\n",
    "SCI=SCI[[\"Country\",\"SCI\"]]\n",
    "### => Low/medium availability => faible proportion\n",
    "\n",
    "df=df.merge(SCI,left_on='Country', right_on='Country').fillna(0)"
   ]
  },
  {
   "cell_type": "code",
   "execution_count": 7,
   "metadata": {},
   "outputs": [],
   "source": [
    "\"\"\"CHE=pd.read_csv(\"CHE.csv\")\n",
    "#CHE.drop(0)\n",
    "CHE.rename(columns={'Unnamed: 0':'Country','Current health expenditure (CHE) as percentage of gross domestic product (GDP) (%).3':\"CHE\"},inplace=True)\n",
    "CHE=CHE[[\"CHE\",\"Country\"]]\n",
    "CHE.drop([0])\n",
    "\n",
    "df=df.merge(CHE,left_on=\"Country\",right_on=\"Country\")\"\"\"\n",
    "\n",
    "CHE=pd.read_csv(\"CHE2.csv\")\n",
    "CHE.rename(columns={'Unnamed: 0':'Country','2015.1':\"CHE\"},inplace=True)\n",
    "CHE=CHE[[\"CHE\",\"Country\"]]\n",
    "CHE.drop([0],inplace=True)\n",
    "CHE[\"CHE\"]=CHE[\"CHE\"].apply(convert)\n",
    "df=df.merge(CHE,left_on=\"Country\",right_on=\"Country\")"
   ]
  },
  {
   "cell_type": "code",
   "execution_count": 8,
   "metadata": {},
   "outputs": [],
   "source": [
    "Med=pd.read_csv(\"Med.csv\")\n",
    "Med=pd.read_csv(\"Med_2.csv\")\n",
    "\n",
    "for i in [2015,2014,2016]:\n",
    "        \n",
    "    countries=Med[Med[\"Year\"]==i][\"Country\"]\n",
    "    \n",
    "    for c in countries:\n",
    "        for index,row in Med.iterrows():\n",
    "            if row[\"Country\"] ==c and row[\"Year\"]!=i:\n",
    "                Med.drop(index,inplace=True)\n",
    "\n",
    "Med.drop(\"Year\",axis=1,inplace=True)\n",
    "Med.rename(columns={'Skilled health professionals density (per 10 000 population)':\"SHW\"},inplace=True)\n",
    "for index, row in Med.iterrows():\n",
    "        if row[\"SHW\"]==\"No data\":\n",
    "            Med.drop(index,inplace=True)\n",
    "Med[\"SHW\"]=Med[\"SHW\"].apply(convert)    \n",
    "df=df.merge(Med,left_on=\"Country\",right_on=\"Country\")"
   ]
  },
  {
   "cell_type": "code",
   "execution_count": 10,
   "metadata": {},
   "outputs": [
    {
     "data": {
      "text/plain": [
       "<matplotlib.collections.PathCollection at 0x27522650d00>"
      ]
     },
     "execution_count": 10,
     "metadata": {},
     "output_type": "execute_result"
    },
    {
     "data": {
      "image/png": "[encoded data removed]",
      "text/plain": [
       "<Figure size 432x288 with 1 Axes>"
      ]
     },
     "metadata": {
      "needs_background": "light"
     },
     "output_type": "display_data"
    }
   ],
   "source": [
    "for col in df.columns:\n",
    "    if col not in [\"Year\",\"Country\"]:\n",
    "            max_val=df[col].max()\n",
    "            df[col]=df[col].apply(normalize)\n",
    "    \n",
    "    \n",
    "df[\"PERFORMANCE\"]=0.20*(100-df[\"HLY0\"])+0.10*(100-df[\"HLY60\"])+0.2*(100-df[\"IMR5\"])+0.1*(100-df['IMR1'])+0.2*df[\"SCI\"]+0.2*df[\"SHW\"]\n",
    "#print(df[df[\"PERFORMANCE\"]>=60][\"Country\"])\n",
    "df[\"root\"]=df[\"CHE\"].apply(root)\n",
    "\n",
    "df.dropna(inplace=True)\n",
    "X=np.array(df[\"CHE\"]).reshape(-1,1) \n",
    "poly=sklearn.preprocessing.PolynomialFeatures(1)\n",
    "X_poly=poly.fit_transform(X)\n",
    "\n",
    "X_train,X_test=sklearn.model_selection.train_test_split(X_poly,test_size=0.01)\n",
    "y_train,y_test=sklearn.model_selection.train_test_split(df[\"PERFORMANCE\"],test_size=0.01)\n",
    "model=sklearn.linear_model.LinearRegression().fit(X_train,y_train)\n",
    "\n",
    "plt.figure()\n",
    "plt.scatter(df[\"CHE\"],df[\"PERFORMANCE\"])\n",
    "plt.scatter(X, model.predict(poly.fit_transform(X)),color='blue')"
   ]
  },
  {
   "cell_type": "code",
   "execution_count": 23,
   "metadata": {},
   "outputs": [
    {
     "name": "stdout",
     "output_type": "stream",
     "text": [
      "[4.50146038e+00 2.02563397e+04 2.02640934e+04] [[ 9.41154081e-02 -4.56976960e+03 -4.56328053e+03]\n",
      " [-4.56976960e+03  2.28279666e+08  2.27948063e+08]\n",
      " [-4.56328053e+03  2.27948063e+08  2.27627613e+08]]\n"
     ]
    },
    {
     "data": {
      "text/plain": [
       "Text(0, 0.5, 'Indice de performance')"
      ]
     },
     "execution_count": 23,
     "metadata": {},
     "output_type": "execute_result"
    },
    {
     "data": {
      "image/png": "[encoded data removed]",
      "text/plain": [
       "<Figure size 432x288 with 1 Axes>"
      ]
     },
     "metadata": {
      "needs_background": "light"
     },
     "output_type": "display_data"
    }
   ],
   "source": [
    "def func(x,a,b,c):\n",
    "    return a*np.log(abs(b*x-c))\n",
    "X=np.array(df[\"CHE\"])\n",
    "y=np.array(df[\"PERFORMANCE\"])\n",
    "popt, pcov = sp.optimize.curve_fit(func, X, y)\n",
    "\n",
    "#plt.scatter(df[\"CHE\"], func(df[\"CHE\"], *popt), 'r-')\n",
    "print(popt,pcov)\n",
    "abscisse=range(1,100)\n",
    "\n",
    "line1=plt.scatter(df[\"CHE\"],df[\"PERFORMANCE\"],label=\"Données\")\n",
    "line2=plt.plot(abscisse,func(abscisse,*popt),'r',label='Régression')\n",
    "plt.legend()\n",
    "plt.title(\"Régression et données\")\n",
    "plt.xlabel(\"CHE par habitant\")\n",
    "plt.ylabel(\"Indice de performance\")"
   ]
  },
  {
   "cell_type": "code",
   "execution_count": null,
   "metadata": {},
   "outputs": [],
   "source": [
    "fig=px.scatter_matrix(df,dimensions=[\"HLY0\",\"HLY60\",\"IMR1\",\"IMR5\",\"SCI\",\"SHW\",\"CHE\",\"PERFORMANCE\"])\n",
    "fig.show()"
   ]
  },
  {
   "cell_type": "code",
   "execution_count": 16,
   "metadata": {},
   "outputs": [
    {
     "data": {
      "text/plain": [
       "<matplotlib.collections.PathCollection at 0x2752270a820>"
      ]
     },
     "execution_count": 16,
     "metadata": {},
     "output_type": "execute_result"
    },
    {
     "data": {
      "image/png": "[encoded data removed]",
      "text/plain": [
       "<Figure size 432x288 with 1 Axes>"
      ]
     },
     "metadata": {
      "needs_background": "light"
     },
     "output_type": "display_data"
    }
   ],
   "source": [
    "plt.figure()\n",
    "plt.title(\"Performance en fonction des CHE par habitant\") \n",
    "plt.xlabel(\"CHE par habitant\")\n",
    "plt.ylabel(\"Indice de performance\")\n",
    "plt.scatter(df[\"CHE\"],df[\"PERFORMANCE\"])"
   ]
  },
  {
   "cell_type": "code",
   "execution_count": null,
   "metadata": {},
   "outputs": [],
   "source": [
    "import seaborn as sns\n",
    "ax = sns.boxplot(data=df.drop(\"Year\",axis=1),orient=\"h\")"
   ]
  },
  {
   "cell_type": "code",
   "execution_count": null,
   "metadata": {},
   "outputs": [],
   "source": [
    "#df=df.drop([\"indice_composite\",\"root\"], axis=1)\n",
    "#df.drop(\"Skilled\",axis=1,inplace=True)"
   ]
  },
  {
   "cell_type": "code",
   "execution_count": 28,
   "metadata": {},
   "outputs": [
    {
     "data": {
      "text/plain": [
       "<matplotlib.collections.PathCollection at 0x27522fc8bb0>"
      ]
     },
     "execution_count": 28,
     "metadata": {},
     "output_type": "execute_result"
    },
    {
     "data": {
      "image/png": "[encoded data removed]",
      "text/plain": [
       "<Figure size 432x288 with 1 Axes>"
      ]
     },
     "metadata": {
      "needs_background": "light"
     },
     "output_type": "display_data"
    }
   ],
   "source": [
    "from sklearn.cluster import KMeans\n",
    "\n",
    "new_df=df[[\"CHE\",\"PERFORMANCE\"]]\n",
    "\n",
    "kmeans = KMeans(n_clusters=3,n_init=10,init='random').fit(new_df) #trying to find 4 clusters, 4 being a purely aritrairy number\n",
    "centers=kmeans.cluster_centers_\n",
    "kmeans.labels_\n",
    "plt.title(\"Clustering sur les données\")\n",
    "plt.xlabel(\"CHE par habitant\")\n",
    "plt.ylabel(\"Indice de performance\")\n",
    "plt.scatter(new_df[\"CHE\"], new_df[\"PERFORMANCE\"],c=kmeans.labels_) "
   ]
  },
  {
   "cell_type": "code",
   "execution_count": 30,
   "metadata": {},
   "outputs": [
    {
     "data": {
      "text/plain": [
       "array([2, 0, 2, 0, 0, 1, 1, 0, 0, 0, 0, 2, 0, 0, 1, 0, 2, 2, 0, 0, 0, 0,\n",
       "       0, 0, 2, 0, 2, 2, 1, 2, 2, 0, 0, 0, 2, 0, 0, 0, 0, 0, 2, 1, 2, 0,\n",
       "       0, 0, 0, 0, 2, 2, 0, 1, 1, 2, 2, 0, 1, 2, 0, 0, 2, 2, 2, 0, 0, 0,\n",
       "       1, 2, 2, 0, 0, 1, 0, 0, 0, 1, 0, 0, 2, 2, 0, 0, 2, 0, 0, 2, 2, 0,\n",
       "       1, 2, 2, 0, 0, 2, 0, 2, 0, 0, 0, 0, 0, 2, 2, 0, 2, 1, 1, 0, 2, 2,\n",
       "       1, 0, 2, 0, 2, 0, 0, 0, 0, 0, 0, 0, 0, 0, 0, 2, 0, 0, 0, 0, 2, 0,\n",
       "       0, 2, 0, 0, 0, 0, 0, 0, 0, 0, 2, 1, 1, 0, 0, 2, 2, 0, 0, 0, 0, 0,\n",
       "       0, 2, 0, 0, 1, 2, 1, 0, 0, 0, 0, 2, 2, 2])"
      ]
     },
     "execution_count": 30,
     "metadata": {},
     "output_type": "execute_result"
    }
   ],
   "source": [
    "kmeans.labels_"
   ]
  },
  {
   "cell_type": "code",
   "execution_count": 41,
   "metadata": {},
   "outputs": [],
   "source": [
    "low=[]\n",
    "mid=[]\n",
    "high=[]\n",
    "for i in range(len(kmeans.labels_)):\n",
    "    if i!=87 and i!=146:\n",
    "        if kmeans.labels_[i]==0:\n",
    "            mid.append(df[\"Country\"][i])\n",
    "        if kmeans.labels_[i]==1:\n",
    "            high.append(df[\"Country\"][i])\n",
    "        if kmeans.labels_[i]==2:\n",
    "            low.append(df[\"Country\"][i])"
   ]
  },
  {
   "cell_type": "code",
   "execution_count": 47,
   "metadata": {},
   "outputs": [
    {
     "ename": "SyntaxError",
     "evalue": "invalid syntax (<ipython-input-47-c204ff826f4a>, line 1)",
     "output_type": "error",
     "traceback": [
      "\u001b[1;36m  File \u001b[1;32m\"<ipython-input-47-c204ff826f4a>\"\u001b[1;36m, line \u001b[1;32m1\u001b[0m\n\u001b[1;33m    high*\u001b[0m\n\u001b[1;37m         ^\u001b[0m\n\u001b[1;31mSyntaxError\u001b[0m\u001b[1;31m:\u001b[0m invalid syntax\n"
     ]
    }
   ],
   "source": [
    "high\n",
    "mid\n",
    "low"
   ]
  },
  {
   "cell_type": "code",
   "execution_count": 57,
   "metadata": {},
   "outputs": [
    {
     "name": "stdout",
     "output_type": "stream",
     "text": [
      "29     Central African Republic\n",
      "30                         Chad\n",
      "94                         Mali\n",
      "110                     Nigeria\n",
      "134                Sierra Leone\n",
      "Name: Country, dtype: object\n"
     ]
    }
   ],
   "source": [
    "print(df[df[\"PERFORMANCE\"]<=25][\"Country\"])"
   ]
  },
  {
   "cell_type": "code",
   "execution_count": null,
   "metadata": {},
   "outputs": [],
   "source": []
  }
 ],
 "metadata": {
  "kernelspec": {
   "display_name": "Python 3",
   "language": "python",
   "name": "python3"
  },
  "language_info": {
   "codemirror_mode": {
    "name": "ipython",
    "version": 3
   },
   "file_extension": ".py",
   "mimetype": "text/x-python",
   "name": "python",
   "nbconvert_exporter": "python",
   "pygments_lexer": "ipython3",
   "version": "3.8.3"
  }
 },
 "nbformat": 4,
 "nbformat_minor": 4
}
